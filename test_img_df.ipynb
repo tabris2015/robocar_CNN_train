{
 "cells": [
  {
   "cell_type": "code",
   "execution_count": 1,
   "metadata": {
    "collapsed": false,
    "deletable": true,
    "editable": true
   },
   "outputs": [
    {
     "name": "stderr",
     "output_type": "stream",
     "text": [
      "Using TensorFlow backend.\n",
      "/usr/local/lib/python2.7/dist-packages/h5py/__init__.py:34: FutureWarning: Conversion of the second argument of issubdtype from `float` to `np.floating` is deprecated. In future, it will be treated as `np.float64 == np.dtype(float).type`.\n",
      "  from ._conv import register_converters as _register_converters\n"
     ]
    }
   ],
   "source": [
    "from keras.preprocessing.image import load_img\n",
    "from keras.preprocessing.image import img_to_array\n",
    "\n",
    "from pandas.plotting import bootstrap_plot\n",
    "import numpy as np\n",
    "import pandas as pd\n",
    "import bcolz\n",
    "import threading\n",
    "\n",
    "import os\n",
    "import sys\n",
    "import glob\n",
    "import shutil\n",
    "import matplotlib.pyplot as plt\n",
    "%matplotlib inline"
   ]
  },
  {
   "cell_type": "code",
   "execution_count": 2,
   "metadata": {
    "collapsed": false,
    "deletable": true,
    "editable": true
   },
   "outputs": [],
   "source": [
    "dataset = pd.read_csv('dataset/target.csv')"
   ]
  },
  {
   "cell_type": "code",
   "execution_count": 3,
   "metadata": {
    "collapsed": false,
    "deletable": true,
    "editable": true
   },
   "outputs": [
    {
     "data": {
      "text/html": [
       "<div>\n",
       "<style scoped>\n",
       "    .dataframe tbody tr th:only-of-type {\n",
       "        vertical-align: middle;\n",
       "    }\n",
       "\n",
       "    .dataframe tbody tr th {\n",
       "        vertical-align: top;\n",
       "    }\n",
       "\n",
       "    .dataframe thead th {\n",
       "        text-align: right;\n",
       "    }\n",
       "</style>\n",
       "<table border=\"1\" class=\"dataframe\">\n",
       "  <thead>\n",
       "    <tr style=\"text-align: right;\">\n",
       "      <th></th>\n",
       "      <th>id</th>\n",
       "      <th>linear</th>\n",
       "      <th>angular</th>\n",
       "    </tr>\n",
       "  </thead>\n",
       "  <tbody>\n",
       "    <tr>\n",
       "      <th>count</th>\n",
       "      <td>4418.000000</td>\n",
       "      <td>4418.000000</td>\n",
       "      <td>4418.000000</td>\n",
       "    </tr>\n",
       "    <tr>\n",
       "      <th>mean</th>\n",
       "      <td>2728.039158</td>\n",
       "      <td>0.142612</td>\n",
       "      <td>0.040491</td>\n",
       "    </tr>\n",
       "    <tr>\n",
       "      <th>std</th>\n",
       "      <td>1545.866026</td>\n",
       "      <td>0.041647</td>\n",
       "      <td>0.486757</td>\n",
       "    </tr>\n",
       "    <tr>\n",
       "      <th>min</th>\n",
       "      <td>80.000000</td>\n",
       "      <td>0.000000</td>\n",
       "      <td>-1.000000</td>\n",
       "    </tr>\n",
       "    <tr>\n",
       "      <th>25%</th>\n",
       "      <td>1480.250000</td>\n",
       "      <td>0.120163</td>\n",
       "      <td>-0.347032</td>\n",
       "    </tr>\n",
       "    <tr>\n",
       "      <th>50%</th>\n",
       "      <td>2758.500000</td>\n",
       "      <td>0.145027</td>\n",
       "      <td>0.000000</td>\n",
       "    </tr>\n",
       "    <tr>\n",
       "      <th>75%</th>\n",
       "      <td>4115.750000</td>\n",
       "      <td>0.161604</td>\n",
       "      <td>0.452466</td>\n",
       "    </tr>\n",
       "    <tr>\n",
       "      <th>max</th>\n",
       "      <td>5400.000000</td>\n",
       "      <td>0.281798</td>\n",
       "      <td>1.000000</td>\n",
       "    </tr>\n",
       "  </tbody>\n",
       "</table>\n",
       "</div>"
      ],
      "text/plain": [
       "                id       linear      angular\n",
       "count  4418.000000  4418.000000  4418.000000\n",
       "mean   2728.039158     0.142612     0.040491\n",
       "std    1545.866026     0.041647     0.486757\n",
       "min      80.000000     0.000000    -1.000000\n",
       "25%    1480.250000     0.120163    -0.347032\n",
       "50%    2758.500000     0.145027     0.000000\n",
       "75%    4115.750000     0.161604     0.452466\n",
       "max    5400.000000     0.281798     1.000000"
      ]
     },
     "execution_count": 3,
     "metadata": {},
     "output_type": "execute_result"
    }
   ],
   "source": [
    "dataset.describe()"
   ]
  },
  {
   "cell_type": "markdown",
   "metadata": {
    "deletable": true,
    "editable": true
   },
   "source": [
    "indices de imagenes que no sirven:\n",
    "  - 0 - 80\n",
    "  - 410 - 470\n",
    "  - 750 - 770\n",
    "  - 1070 - 1080\n",
    "  - 1130 - 1243\n",
    "  - 1272 - 1385\n",
    "  - 2135 - 2196\n",
    "  - 2467 - 2580\n",
    "  - 3030 - 3115\n",
    "  - 3592 - 3760\n",
    "  - 4835 - 4928\n",
    "  - 5131 - 5177\n",
    "  - 5324 - 5365\n",
    "  - 5401 - fin"
   ]
  },
  {
   "cell_type": "code",
   "execution_count": 9,
   "metadata": {
    "collapsed": false,
    "deletable": true,
    "editable": true
   },
   "outputs": [
    {
     "data": {
      "text/html": [
       "<div>\n",
       "<style scoped>\n",
       "    .dataframe tbody tr th:only-of-type {\n",
       "        vertical-align: middle;\n",
       "    }\n",
       "\n",
       "    .dataframe tbody tr th {\n",
       "        vertical-align: top;\n",
       "    }\n",
       "\n",
       "    .dataframe thead th {\n",
       "        text-align: right;\n",
       "    }\n",
       "</style>\n",
       "<table border=\"1\" class=\"dataframe\">\n",
       "  <thead>\n",
       "    <tr style=\"text-align: right;\">\n",
       "      <th></th>\n",
       "      <th>id</th>\n",
       "      <th>linear</th>\n",
       "      <th>angular</th>\n",
       "      <th>target</th>\n",
       "    </tr>\n",
       "  </thead>\n",
       "  <tbody>\n",
       "    <tr>\n",
       "      <th>0</th>\n",
       "      <td>80</td>\n",
       "      <td>0.149171</td>\n",
       "      <td>0.0</td>\n",
       "      <td>[0.14917126297950745, -0.0]</td>\n",
       "    </tr>\n",
       "    <tr>\n",
       "      <th>1</th>\n",
       "      <td>81</td>\n",
       "      <td>0.132595</td>\n",
       "      <td>0.0</td>\n",
       "      <td>[0.13259488344192505, -0.0]</td>\n",
       "    </tr>\n",
       "    <tr>\n",
       "      <th>2</th>\n",
       "      <td>82</td>\n",
       "      <td>0.124307</td>\n",
       "      <td>0.0</td>\n",
       "      <td>[0.12430670857429504, -0.0]</td>\n",
       "    </tr>\n",
       "    <tr>\n",
       "      <th>3</th>\n",
       "      <td>83</td>\n",
       "      <td>0.087010</td>\n",
       "      <td>0.0</td>\n",
       "      <td>[0.08700987696647644, -0.0]</td>\n",
       "    </tr>\n",
       "    <tr>\n",
       "      <th>4</th>\n",
       "      <td>84</td>\n",
       "      <td>0.078722</td>\n",
       "      <td>0.0</td>\n",
       "      <td>[0.07872170209884644, -0.0]</td>\n",
       "    </tr>\n",
       "  </tbody>\n",
       "</table>\n",
       "</div>"
      ],
      "text/plain": [
       "   id    linear  angular                       target\n",
       "0  80  0.149171      0.0  [0.14917126297950745, -0.0]\n",
       "1  81  0.132595      0.0  [0.13259488344192505, -0.0]\n",
       "2  82  0.124307      0.0  [0.12430670857429504, -0.0]\n",
       "3  83  0.087010      0.0  [0.08700987696647644, -0.0]\n",
       "4  84  0.078722      0.0  [0.07872170209884644, -0.0]"
      ]
     },
     "execution_count": 9,
     "metadata": {},
     "output_type": "execute_result"
    }
   ],
   "source": [
    "dataset.head()"
   ]
  },
  {
   "cell_type": "code",
   "execution_count": 10,
   "metadata": {
    "collapsed": true,
    "deletable": true,
    "editable": true
   },
   "outputs": [],
   "source": [
    "def file_path_from_db_id(db_id, pattern=\"%d.bmp\", top=\"dataset/\"):\n",
    "    \"\"\"Return file path /top/yyy/xx/blah_zzzxxyyy.png for db_id zzzxxyyy.\n",
    "    \n",
    "      The idea is to hash into 1k top level dirs, 000 - 999, then 100\n",
    "      second level dirs, 00-99, so that the following database ids\n",
    "      result in the associated file paths:\n",
    "    \n",
    "      1234567     /tmp/path/to/imgs/567/34/blah_1234567.png\n",
    "          432     /tmp/path/to/imgs/432/00/blah_432.png\n",
    "        29847     /tmp/path/to/imgs/847/29/blah_29847.png\n",
    "         1432     /tmp/path/to/imgs/432/01/blah_1432.png\n",
    "      Notice that changing pattern to pattern=\"blah_%09d.png\" and\n",
    "      top=\"\" would result in:\n",
    "      1234567     567/34/blah_001234567.png\n",
    "          432     432/00/blah_000000432.png\n",
    "        29847     847/29/blah_000029847.png\n",
    "         1432     432/01/blah_000001432.png\n",
    "      In general, this will give a decent spread for up to 100 million images.\n",
    "      If you have more than 10 million images, or your database ids are\n",
    "      higher, then this function is easily modified.\n",
    "    \"\"\"\n",
    "    s = '%09d' % db_id\n",
    "    return os.path.join(top, pattern % db_id)"
   ]
  },
  {
   "cell_type": "code",
   "execution_count": 11,
   "metadata": {
    "collapsed": true,
    "deletable": true,
    "editable": true
   },
   "outputs": [],
   "source": [
    "dataset['imgpath'] = dataset.id.apply(file_path_from_db_id)"
   ]
  },
  {
   "cell_type": "code",
   "execution_count": 12,
   "metadata": {
    "collapsed": true,
    "deletable": true,
    "editable": true
   },
   "outputs": [],
   "source": [
    "from sklearn.model_selection import train_test_split"
   ]
  },
  {
   "cell_type": "code",
   "execution_count": 41,
   "metadata": {
    "collapsed": true,
    "deletable": true,
    "editable": true
   },
   "outputs": [],
   "source": [
    "train, test = train_test_split(dataset, test_size=0.2)"
   ]
  },
  {
   "cell_type": "code",
   "execution_count": 42,
   "metadata": {
    "collapsed": false
   },
   "outputs": [
    {
     "data": {
      "text/plain": [
       "array([[<matplotlib.axes._subplots.AxesSubplot object at 0x7f8f8c8bc190>]],\n",
       "      dtype=object)"
      ]
     },
     "execution_count": 42,
     "metadata": {},
     "output_type": "execute_result"
    },
    {
     "data": {
      "image/png": "[encoded data removed]",
      "text/plain": [
       "<matplotlib.figure.Figure at 0x7f8f8c704bd0>"
      ]
     },
     "metadata": {},
     "output_type": "display_data"
    }
   ],
   "source": [
    "# histograma de los datos\n",
    "dataset.hist(column='angular', bins=100)"
   ]
  },
  {
   "cell_type": "code",
   "execution_count": 39,
   "metadata": {
    "collapsed": false
   },
   "outputs": [
    {
     "data": {
      "text/html": [
       "<div>\n",
       "<style scoped>\n",
       "    .dataframe tbody tr th:only-of-type {\n",
       "        vertical-align: middle;\n",
       "    }\n",
       "\n",
       "    .dataframe tbody tr th {\n",
       "        vertical-align: top;\n",
       "    }\n",
       "\n",
       "    .dataframe thead th {\n",
       "        text-align: right;\n",
       "    }\n",
       "</style>\n",
       "<table border=\"1\" class=\"dataframe\">\n",
       "  <thead>\n",
       "    <tr style=\"text-align: right;\">\n",
       "      <th></th>\n",
       "      <th>id</th>\n",
       "      <th>linear</th>\n",
       "      <th>angular</th>\n",
       "    </tr>\n",
       "  </thead>\n",
       "  <tbody>\n",
       "    <tr>\n",
       "      <th>count</th>\n",
       "      <td>4087.000000</td>\n",
       "      <td>4087.000000</td>\n",
       "      <td>4087.000000</td>\n",
       "    </tr>\n",
       "    <tr>\n",
       "      <th>mean</th>\n",
       "      <td>2736.808662</td>\n",
       "      <td>0.144128</td>\n",
       "      <td>0.043770</td>\n",
       "    </tr>\n",
       "    <tr>\n",
       "      <th>std</th>\n",
       "      <td>1538.058221</td>\n",
       "      <td>0.041184</td>\n",
       "      <td>0.505947</td>\n",
       "    </tr>\n",
       "    <tr>\n",
       "      <th>min</th>\n",
       "      <td>89.000000</td>\n",
       "      <td>0.000000</td>\n",
       "      <td>-1.000000</td>\n",
       "    </tr>\n",
       "    <tr>\n",
       "      <th>25%</th>\n",
       "      <td>1502.500000</td>\n",
       "      <td>0.120163</td>\n",
       "      <td>-0.362549</td>\n",
       "    </tr>\n",
       "    <tr>\n",
       "      <th>50%</th>\n",
       "      <td>2733.000000</td>\n",
       "      <td>0.145027</td>\n",
       "      <td>-0.047855</td>\n",
       "    </tr>\n",
       "    <tr>\n",
       "      <th>75%</th>\n",
       "      <td>4126.500000</td>\n",
       "      <td>0.161604</td>\n",
       "      <td>0.499111</td>\n",
       "    </tr>\n",
       "    <tr>\n",
       "      <th>max</th>\n",
       "      <td>5398.000000</td>\n",
       "      <td>0.281798</td>\n",
       "      <td>1.000000</td>\n",
       "    </tr>\n",
       "  </tbody>\n",
       "</table>\n",
       "</div>"
      ],
      "text/plain": [
       "                id       linear      angular\n",
       "count  4087.000000  4087.000000  4087.000000\n",
       "mean   2736.808662     0.144128     0.043770\n",
       "std    1538.058221     0.041184     0.505947\n",
       "min      89.000000     0.000000    -1.000000\n",
       "25%    1502.500000     0.120163    -0.362549\n",
       "50%    2733.000000     0.145027    -0.047855\n",
       "75%    4126.500000     0.161604     0.499111\n",
       "max    5398.000000     0.281798     1.000000"
      ]
     },
     "execution_count": 39,
     "metadata": {},
     "output_type": "execute_result"
    }
   ],
   "source": [
    "# podemos ver un pico cerca a 0\n",
    "\n",
    "dataset['angular'].value_counts().max()\n",
    "#dataset['angular'].value_counts().idxmax()\n",
    "\n",
    "#removemos los ceros y analizamos de nuevo\n",
    "nozeros = dataset[dataset.angular != 0.0]\n",
    "#nozeros.hist(column='angular', bins=50)\n",
    "#nozeros['angular'].mode()\n",
    "nozeros.describe()"
   ]
  },
  {
   "cell_type": "code",
   "execution_count": 43,
   "metadata": {
    "collapsed": true,
    "deletable": true,
    "editable": true
   },
   "outputs": [],
   "source": [
    "def generator_from_df(df, batch_size, target_size, target_column='target', features=None,\n",
    "                      debug_merged=False):\n",
    "\n",
    "    nbatches, n_skipped_per_epoch = divmod(df.shape[0], batch_size)\n",
    "    count = 1\n",
    "    epoch = 0\n",
    "\n",
    "    # New epoch.\n",
    "    while 1:\n",
    "        epoch += 1\n",
    "        i, j = 0, batch_size\n",
    "\n",
    "        # Mini-batches within epoch.\n",
    "        mini_batches_completed = 0\n",
    "        for _ in range(nbatches):\n",
    "\n",
    "            sub = df.iloc[i:j]\n",
    "\n",
    "            try:\n",
    "\n",
    "                X = np.array([\n",
    "\n",
    "                        (2 *           \n",
    "                         (img_to_array(load_img(f, target_size=target_size))\n",
    "\n",
    "                          / 255.0 - 0.5))\n",
    "\n",
    "                        for f in sub.imgpath])\n",
    "\n",
    "                Y = sub[target_column].values\n",
    "\n",
    "                # Simple model, one input, one output.\n",
    "                mini_batches_completed += 1\n",
    "                yield X, Y\n",
    "\n",
    "            except IOError as err:\n",
    "                count -= 1    \n",
    "            i = j\n",
    "            j += batch_size\n",
    "            count += 1"
   ]
  },
  {
   "cell_type": "code",
   "execution_count": 8,
   "metadata": {
    "collapsed": false,
    "deletable": true,
    "editable": true
   },
   "outputs": [],
   "source": [
    "def extract(target):\n",
    "    return np.array([float(x) for x in (target.replace(\"[\",\"\").replace(\"]\",\"\").split(\",\"))])"
   ]
  },
  {
   "cell_type": "code",
   "execution_count": 9,
   "metadata": {
    "collapsed": false,
    "deletable": true,
    "editable": true
   },
   "outputs": [
    {
     "name": "stderr",
     "output_type": "stream",
     "text": [
      "/usr/local/lib/python2.7/dist-packages/ipykernel/__main__.py:1: SettingWithCopyWarning: \n",
      "A value is trying to be set on a copy of a slice from a DataFrame.\n",
      "Try using .loc[row_indexer,col_indexer] = value instead\n",
      "\n",
      "See the caveats in the documentation: http://pandas.pydata.org/pandas-docs/stable/indexing.html#indexing-view-versus-copy\n",
      "  if __name__ == '__main__':\n",
      "/usr/local/lib/python2.7/dist-packages/ipykernel/__main__.py:2: SettingWithCopyWarning: \n",
      "A value is trying to be set on a copy of a slice from a DataFrame.\n",
      "Try using .loc[row_indexer,col_indexer] = value instead\n",
      "\n",
      "See the caveats in the documentation: http://pandas.pydata.org/pandas-docs/stable/indexing.html#indexing-view-versus-copy\n",
      "  from ipykernel import kernelapp as app\n"
     ]
    }
   ],
   "source": [
    "train['target'] = train['target'].apply(extract)\n",
    "test['target'] = test['target'].apply(extract)"
   ]
  },
  {
   "cell_type": "code",
   "execution_count": 44,
   "metadata": {
    "collapsed": false,
    "deletable": true,
    "editable": true
   },
   "outputs": [
    {
     "name": "stdout",
     "output_type": "stream",
     "text": [
      "('X: ', (32, 224, 224, 3))\n",
      "('Y: ', (32,))\n",
      "============================\n"
     ]
    }
   ],
   "source": [
    "\n",
    "nbatches = test.shape[0] / float(32)\n",
    "for i, (X, Y) in enumerate(generator_from_df(test, 32, (224,224), 'angular')):\n",
    "        if i == 0:\n",
    "            print('X: ',X.shape)\n",
    "            print('Y: ',Y.shape)\n",
    "            \n",
    "            print('============================')\n",
    "            # Keras automatically breaks out of the infinite \"while 1\"\n",
    "            # loop in the generator_from_df().  For this test, we need\n",
    "            # to break manually.\n",
    "        if i >= 10:\n",
    "            break\n",
    "        i += 1"
   ]
  },
  {
   "cell_type": "code",
   "execution_count": 52,
   "metadata": {
    "collapsed": true,
    "deletable": true,
    "editable": true
   },
   "outputs": [],
   "source": [
    "import keras\n",
    "from keras.datasets import mnist\n",
    "from keras.models import Sequential\n",
    "from keras.layers import Dense, Dropout, Flatten\n",
    "from keras.layers import Conv2D, MaxPooling2D\n",
    "from keras import backend as K\n",
    "from keras.preprocessing.image import ImageDataGenerator, array_to_img, img_to_array, load_img"
   ]
  },
  {
   "cell_type": "code",
   "execution_count": 50,
   "metadata": {
    "collapsed": false,
    "deletable": true,
    "editable": true
   },
   "outputs": [],
   "source": [
    "datagen = ImageDataGenerator(\n",
    "        rotation_range=20,\n",
    "        width_shift_range=0.1,\n",
    "        height_shift_range=0.1,\n",
    "        shear_range=0.2,\n",
    "        zoom_range=0.2,\n",
    "        horizontal_flip=False,\n",
    "        fill_mode='nearest')"
   ]
  },
  {
   "cell_type": "code",
   "execution_count": 62,
   "metadata": {
    "collapsed": false,
    "deletable": true,
    "editable": true
   },
   "outputs": [],
   "source": [
    "img = load_img(dataset['imgpath'][0])\n",
    "x = img_to_array(img)  # this is a Numpy array with shape (3, 150, 150)\n",
    "x = x.reshape((1,) + x.shape)  # this is a Numpy array with shape (1, 3, 150, 150)\n",
    "\n",
    "# the .flow() command below generates batches of randomly transformed images\n",
    "# and saves the results to the `preview/` directory\n",
    "i = 0\n",
    "for batch in datagen.flow(x, batch_size=1,\n",
    "                          save_to_dir='dataset/extra', save_prefix='', save_format='bmp'):\n",
    "    i += 1\n",
    "    if i > 20:\n",
    "        break  # otherwise the generator would loop indefinitely"
   ]
  },
  {
   "cell_type": "code",
   "execution_count": 21,
   "metadata": {
    "collapsed": false,
    "deletable": true,
    "editable": true
   },
   "outputs": [],
   "source": [
    "score = model.evaluate_generator(generator_from_df(test, 32, (224,224), 'angular'), steps=7)"
   ]
  },
  {
   "cell_type": "code",
   "execution_count": 22,
   "metadata": {
    "collapsed": false,
    "deletable": true,
    "editable": true
   },
   "outputs": [
    {
     "name": "stdout",
     "output_type": "stream",
     "text": [
      "[0.13429456523486547, 0.5401785714285714]\n"
     ]
    }
   ],
   "source": [
    "print(score)"
   ]
  },
  {
   "cell_type": "code",
   "execution_count": 23,
   "metadata": {
    "collapsed": false,
    "deletable": true,
    "editable": true
   },
   "outputs": [
    {
     "name": "stdout",
     "output_type": "stream",
     "text": [
      "Saved model to disk\n"
     ]
    }
   ],
   "source": [
    "# serialize model to JSON\n",
    "model_json = model.to_json()\n",
    "with open(\"model.json\", \"w\") as json_file:\n",
    "    json_file.write(model_json)\n",
    "# serialize weights to HDF5\n",
    "model.save_weights(\"model.h5\")\n",
    "print(\"Saved model to disk\")"
   ]
  },
  {
   "cell_type": "code",
   "execution_count": null,
   "metadata": {
    "collapsed": true,
    "deletable": true,
    "editable": true
   },
   "outputs": [],
   "source": []
  }
 ],
 "metadata": {
  "kernelspec": {
   "display_name": "Python 2",
   "language": "python",
   "name": "python2"
  },
  "language_info": {
   "codemirror_mode": {
    "name": "ipython",
    "version": 2
   },
   "file_extension": ".py",
   "mimetype": "text/x-python",
   "name": "python",
   "nbconvert_exporter": "python",
   "pygments_lexer": "ipython2",
   "version": "2.7.12"
  }
 },
 "nbformat": 4,
 "nbformat_minor": 2
}
